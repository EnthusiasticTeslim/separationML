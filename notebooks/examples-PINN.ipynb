{
 "cells": [
  {
   "cell_type": "code",
   "execution_count": 1,
   "metadata": {},
   "outputs": [
    {
     "name": "stdout",
     "output_type": "stream",
     "text": [
      "cwd: /Users/gbemidebe/Documents/GitHub/RLseparation\n"
     ]
    }
   ],
   "source": [
    "import os\n",
    "# go to the root of the project\n",
    "if 'notebooks' in os.getcwd():\n",
    "    os.chdir('../')\n",
    "print(f'cwd: {os.getcwd()}')"
   ]
  },
  {
   "cell_type": "code",
   "execution_count": 2,
   "metadata": {},
   "outputs": [],
   "source": [
    "import numpy as np\n",
    "\n",
    "from scipy.integrate import odeint\n",
    "from scipy.integrate import solve_ivp\n",
    "\n",
    "import matplotlib.pyplot as plt\n",
    "import torch\n",
    "import torch.nn as nn"
   ]
  },
  {
   "cell_type": "code",
   "execution_count": 3,
   "metadata": {},
   "outputs": [],
   "source": [
    "# # Define the ODE loss function\n",
    "# def reshape_input(a, t):\n",
    "#     '''Reshape input tensors to match the dimensions of t'''\n",
    "#     a_ = a.view(-1, 1).expand(-1, t.size(0))\n",
    "#     return a_\n",
    "\n",
    "# def ode(t, a, b):\n",
    "#     '''ODE: dy/dt = a * exp(t) - b'''\n",
    "#     out =  a * torch.exp(t).T - b\n",
    "#     return out.flatten()\n",
    "\n",
    "# # Known parameters a and b as vectors\n",
    "# a = torch.tensor([1.0, 1.0, 1.0], requires_grad=True)\n",
    "# b = torch.tensor([0.2, 0.25, 0.15], requires_grad=True)\n",
    "# assert a.shape == b.shape\n",
    "# t = torch.linspace(0, 0.5, 100).view(-1, 1).requires_grad_(True)\n",
    "# result = ode(t, a = reshape_input(a, t), b= reshape_input(b, t)).reshape(len(a), len(t))\n",
    "# print(t.shape, result.shape)"
   ]
  },
  {
   "cell_type": "markdown",
   "metadata": {},
   "source": [
    "Given Ordinary differential equation, dy/dt = a * exp(t) - b. \n",
    "\n",
    "For combination of a, b, t and init (initial condition) and target k = y[-1] - y[0], develop a PINN for the model k = f(a, b, t, init).\n",
    "\n",
    "loss = lambda_pinn * loss_physics + lambda_data * loss_neural_network\n",
    "\n"
   ]
  },
  {
   "cell_type": "markdown",
   "metadata": {},
   "source": [
    "# 1. Solving ODE numerically"
   ]
  },
  {
   "cell_type": "markdown",
   "metadata": {},
   "source": [
    "## A. Single parameters"
   ]
  },
  {
   "cell_type": "code",
   "execution_count": 4,
   "metadata": {},
   "outputs": [
    {
     "data": {
      "text/plain": [
       "[<matplotlib.lines.Line2D at 0x160dabfd0>]"
      ]
     },
     "execution_count": 4,
     "metadata": {},
     "output_type": "execute_result"
    },
    {
     "data": {
      "image/png": "[encoded data removed]",
      "text/plain": [
       "<Figure size 640x480 with 1 Axes>"
      ]
     },
     "metadata": {},
     "output_type": "display_data"
    }
   ],
   "source": [
    "def ode(y, t, a, b):\n",
    "    '''ODE: dy/dt = a * exp(t) - b'''\n",
    "    dydt = a * np.exp(t) - b\n",
    "    return dydt\n",
    "\n",
    "initial = 10\n",
    "a = 1\n",
    "b = 1\n",
    "t = np.linspace(0, 5, 10)\n",
    "res = odeint(func=ode, y0=initial, t=t, args=(a, b))\n",
    "\n",
    "plt.plot(t, res)"
   ]
  },
  {
   "cell_type": "markdown",
   "metadata": {},
   "source": [
    "## B. Many parameters"
   ]
  },
  {
   "cell_type": "code",
   "execution_count": 5,
   "metadata": {},
   "outputs": [],
   "source": [
    "a = np.array([1.0, 1.0, 1.0])\n",
    "b = np.array([0.2, 0.2, 0.2])\n",
    "t = np.array([6, 6, 6])\n",
    "init = np.array([0, 25.5, 100.5])\n",
    "\n",
    "def ode(t, y, a, b):\n",
    "    '''ODE: dy/dt = a * exp(t) - b'''\n",
    "    dydt = a * np.exp(t) - b\n",
    "    return dydt\n",
    "\n",
    "def fun_odeint(t, a, b, init, num_points=100):\n",
    "    '''solve the ODE for multiple sets of parameters\n",
    "    params:\n",
    "        t: array of time points\n",
    "        a: array of a parameters\n",
    "        b: array of b parameters\n",
    "        init: array of initial values\n",
    "        num_points: number of points to solve\n",
    "    returns:\n",
    "        array of solutions\n",
    "    '''\n",
    "    assert a.shape == b.shape == t.shape == init.shape, 'Shapes of input arrays do not match'\n",
    "    result = []\n",
    "    for index in range(len(a)):\n",
    "        params = (a[index], b[index])\n",
    "        time = np.linspace(0, t[index], num_points)\n",
    "        res = odeint(func=ode, y0=init[index], t=time, args=params, tfirst=True)\n",
    "        result.append(res)\n",
    "\n",
    "    return np.array(result)\n",
    "\n",
    "def fun_ode_svp(t, a, b, init, num_points=100):\n",
    "    '''solve the ODE for multiple sets of parameters\n",
    "    params:\n",
    "        t: array of time points\n",
    "        a: array of a parameters\n",
    "        b: array of b parameters\n",
    "        init: array of initial values\n",
    "        num_points: number of points to solve\n",
    "    returns:\n",
    "        array of solutions\n",
    "    '''\n",
    "    assert a.shape == b.shape == t.shape == init.shape, 'Shapes of input arrays do not match'\n",
    "    result = []\n",
    "    for index in range(len(a)):\n",
    "        params = (a[index], b[index])\n",
    "        tspan = (0, t[index])\n",
    "        time = np.linspace(0, t[index], num_points)\n",
    "        # lorenz, t_span, y0,\n",
    "        print(init[index])  \n",
    "        res = solve_ivp(fun=ode, y0=[init[index]], t_span=tspan, t_eval=time, args=params)\n",
    "        print(res.y.shape)\n",
    "        result.append(res.y.reshape(-1))\n",
    "\n",
    "    return np.array(result)\n",
    "\n",
    "pts = 10\n",
    "res = fun_odeint(t=t, a=a, b=b, init=init, num_points=pts)\n",
    "# res2 = fun_ode_svp(t=t, a=a, b=b, init=init, num_points=pts)\n",
    "# print(res.shape, res2.shape)"
   ]
  },
  {
   "cell_type": "code",
   "execution_count": 6,
   "metadata": {},
   "outputs": [
    {
     "data": {
      "text/plain": [
       "<matplotlib.legend.Legend at 0x1046d2e20>"
      ]
     },
     "execution_count": 6,
     "metadata": {},
     "output_type": "execute_result"
    },
    {
     "data": {
      "image/png": "[encoded data removed]",
      "text/plain": [
       "<Figure size 640x480 with 1 Axes>"
      ]
     },
     "metadata": {},
     "output_type": "display_data"
    }
   ],
   "source": [
    "plt.scatter(np.linspace(0, t[0], pts), res[0], label=f'a={a[0]}, b={b[0]}, t={t[0]}, init={init[0]}')\n",
    "plt.scatter(np.linspace(0, t[1], pts), res[1], label=f'a={a[1]}, b={b[1]}, t={t[1]}, init={init[1]}')\n",
    "plt.scatter(np.linspace(0, t[2], pts), res[2], label=f'a={a[2]}, b={b[2]}, t={t[2]}, init={init[2]}')\n",
    "\n",
    "plt.legend()"
   ]
  },
  {
   "cell_type": "markdown",
   "metadata": {},
   "source": [
    "# 2. Neural Network (NN)"
   ]
  },
  {
   "cell_type": "markdown",
   "metadata": {},
   "source": [
    "## A. ordinary NN"
   ]
  },
  {
   "cell_type": "code",
   "execution_count": 7,
   "metadata": {},
   "outputs": [
    {
     "name": "stdout",
     "output_type": "stream",
     "text": [
      "torch.Size([100, 10]) torch.Size([100, 1])\n"
     ]
    }
   ],
   "source": [
    "import torch.nn.functional as F\n",
    "\n",
    "class FCN(nn.Module):\n",
    "    def __init__(self, input_size, hidden_size, output_size):\n",
    "        super(FCN, self).__init__()\n",
    "        self.fc1 = nn.Linear(input_size, hidden_size)\n",
    "        self.fc2 = nn.Linear(hidden_size, hidden_size)\n",
    "        self.fc3 = nn.Linear(hidden_size, output_size)\n",
    "\n",
    "\n",
    "    def forward(self, x):\n",
    "        x = F.relu(self.fc1(x))\n",
    "        x = F.relu(self.fc2(x))\n",
    "        x = self.fc3(x)\n",
    "        return x\n",
    "    \n",
    "import numpy as np\n",
    "x = np.random.rand(100, 10)\n",
    "x = torch.tensor(x, dtype=torch.float32)\n",
    "model = FCN(input_size=x.shape[1], hidden_size=20, output_size=1)\n",
    "output = model(x)\n",
    "print(x.shape, output.shape)"
   ]
  },
  {
   "cell_type": "markdown",
   "metadata": {},
   "source": [
    "## B. Physics Neural Network"
   ]
  },
  {
   "cell_type": "markdown",
   "metadata": {},
   "source": [
    "Reasoning: \\\n",
    "    params:\\\n",
    "    FCN or ODE has inputs: t (len = 100), a (len = 2) , b (len = 2) \\\n",
    "    ODE or FCN output should have same output. shape must be (len(t)*len(a), 1)"
   ]
  },
  {
   "cell_type": "code",
   "execution_count": 8,
   "metadata": {},
   "outputs": [
    {
     "name": "stdout",
     "output_type": "stream",
     "text": [
      "/Users/gbemidebe/Documents/GitHub/RLseparation\n"
     ]
    }
   ],
   "source": [
    "!pwd"
   ]
  },
  {
   "cell_type": "code",
   "execution_count": 12,
   "metadata": {},
   "outputs": [
    {
     "name": "stderr",
     "output_type": "stream",
     "text": [
      " 12%|█▏        | 120/1000 [00:00<00:01, 597.90it/s]"
     ]
    },
    {
     "name": "stdout",
     "output_type": "stream",
     "text": [
      "Epoch 0: physics = 36609.465, data = 111403.672, total = 103924.250\n",
      "Epoch 10: physics = 36600.660, data = 111376.602, total = 103899.000\n",
      "Epoch 20: physics = 36588.691, data = 111339.461, total = 103864.383\n",
      "Epoch 30: physics = 36567.363, data = 111273.227, total = 103802.633\n",
      "Epoch 40: physics = 36524.547, data = 111139.539, total = 103678.039\n",
      "Epoch 50: physics = 36436.977, data = 110870.523, total = 103427.164\n",
      "Epoch 60: physics = 36264.312, data = 110347.375, total = 102939.062\n",
      "Epoch 70: physics = 35938.402, data = 109377.234, total = 102033.352\n",
      "Epoch 80: physics = 35366.992, data = 107660.250, total = 100430.922\n",
      "Epoch 90: physics = 34411.285, data = 104775.656, total = 97739.211\n",
      "Epoch 100: physics = 32911.266, data = 100197.273, total = 93468.672\n",
      "Epoch 110: physics = 30686.408, data = 93378.375, total = 87109.180\n",
      "Epoch 120: physics = 27604.527, data = 83937.531, total = 78304.227\n"
     ]
    },
    {
     "name": "stderr",
     "output_type": "stream",
     "text": [
      " 24%|██▍       | 242/1000 [00:00<00:01, 604.44it/s]"
     ]
    },
    {
     "name": "stdout",
     "output_type": "stream",
     "text": [
      "Epoch 130: physics = 23714.955, data = 71977.453, total = 67151.203\n",
      "Epoch 140: physics = 19466.904, data = 58627.812, total = 54711.723\n",
      "Epoch 150: physics = 15722.488, data = 46240.930, total = 43189.086\n",
      "Epoch 160: physics = 13489.593, data = 37438.027, total = 35043.184\n",
      "Epoch 170: physics = 12617.140, data = 31672.496, total = 29766.961\n",
      "Epoch 180: physics = 11691.281, data = 27165.369, total = 25617.961\n",
      "Epoch 190: physics = 9674.257, data = 23667.693, total = 22268.350\n",
      "Epoch 200: physics = 7657.089, data = 20572.525, total = 19280.980\n",
      "Epoch 210: physics = 6277.338, data = 17686.738, total = 16545.799\n",
      "Epoch 220: physics = 5356.044, data = 15193.737, total = 14209.968\n",
      "Epoch 230: physics = 4600.972, data = 13224.231, total = 12361.905\n",
      "Epoch 240: physics = 3885.905, data = 11374.577, total = 10625.710\n",
      "Epoch 250: physics = 3275.414, data = 9458.490, total = 8840.182\n"
     ]
    },
    {
     "name": "stderr",
     "output_type": "stream",
     "text": [
      " 37%|███▋      | 368/1000 [00:00<00:01, 615.71it/s]"
     ]
    },
    {
     "name": "stdout",
     "output_type": "stream",
     "text": [
      "Epoch 260: physics = 2601.658, data = 7536.125, total = 7042.678\n",
      "Epoch 270: physics = 1970.964, data = 5685.256, total = 5313.827\n",
      "Epoch 280: physics = 1378.884, data = 3984.308, total = 3723.765\n",
      "Epoch 290: physics = 884.882, data = 2545.093, total = 2379.072\n",
      "Epoch 300: physics = 502.028, data = 1446.384, total = 1351.948\n",
      "Epoch 310: physics = 248.840, data = 710.661, total = 664.479\n",
      "Epoch 320: physics = 110.589, data = 300.642, total = 281.637\n",
      "Epoch 330: physics = 47.622, data = 108.553, total = 102.460\n",
      "Epoch 340: physics = 26.743, data = 38.778, total = 37.574\n",
      "Epoch 350: physics = 22.445, data = 20.498, total = 20.693\n",
      "Epoch 360: physics = 22.505, data = 17.726, total = 18.204\n",
      "Epoch 370: physics = 22.784, data = 17.737, total = 18.242\n",
      "Epoch 380: physics = 22.610, data = 17.647, total = 18.144\n"
     ]
    },
    {
     "name": "stderr",
     "output_type": "stream",
     "text": [
      " 49%|████▉     | 490/1000 [00:00<00:00, 579.87it/s]"
     ]
    },
    {
     "name": "stdout",
     "output_type": "stream",
     "text": [
      "Epoch 390: physics = 22.185, data = 17.427, total = 17.903\n",
      "Epoch 400: physics = 21.843, data = 17.262, total = 17.721\n",
      "Epoch 410: physics = 21.610, data = 17.146, total = 17.592\n",
      "Epoch 420: physics = 21.455, data = 17.033, total = 17.476\n",
      "Epoch 430: physics = 21.340, data = 16.915, total = 17.358\n",
      "Epoch 440: physics = 21.229, data = 16.797, total = 17.240\n",
      "Epoch 450: physics = 21.114, data = 16.680, total = 17.124\n",
      "Epoch 460: physics = 20.990, data = 16.565, total = 17.008\n",
      "Epoch 470: physics = 20.863, data = 16.451, total = 16.893\n",
      "Epoch 480: physics = 20.736, data = 16.338, total = 16.778\n",
      "Epoch 490: physics = 20.608, data = 16.225, total = 16.664\n",
      "Epoch 500: physics = 20.482, data = 16.113, total = 16.550\n"
     ]
    },
    {
     "name": "stderr",
     "output_type": "stream",
     "text": [
      " 61%|██████    | 607/1000 [00:01<00:00, 574.37it/s]"
     ]
    },
    {
     "name": "stdout",
     "output_type": "stream",
     "text": [
      "Epoch 510: physics = 20.357, data = 16.001, total = 16.437\n",
      "Epoch 520: physics = 20.233, data = 15.890, total = 16.324\n",
      "Epoch 530: physics = 20.110, data = 15.779, total = 16.212\n",
      "Epoch 540: physics = 19.986, data = 15.668, total = 16.100\n",
      "Epoch 550: physics = 19.864, data = 15.558, total = 15.989\n",
      "Epoch 560: physics = 19.741, data = 15.449, total = 15.878\n",
      "Epoch 570: physics = 19.619, data = 15.340, total = 15.768\n",
      "Epoch 580: physics = 19.499, data = 15.231, total = 15.658\n",
      "Epoch 590: physics = 19.378, data = 15.123, total = 15.548\n",
      "Epoch 600: physics = 19.256, data = 15.015, total = 15.439\n",
      "Epoch 610: physics = 19.138, data = 14.908, total = 15.331\n",
      "Epoch 620: physics = 19.019, data = 14.801, total = 15.223\n"
     ]
    },
    {
     "name": "stderr",
     "output_type": "stream",
     "text": [
      " 73%|███████▎  | 726/1000 [00:01<00:00, 540.13it/s]"
     ]
    },
    {
     "name": "stdout",
     "output_type": "stream",
     "text": [
      "Epoch 630: physics = 18.901, data = 14.694, total = 15.115\n",
      "Epoch 640: physics = 18.784, data = 14.588, total = 15.008\n",
      "Epoch 650: physics = 18.667, data = 14.483, total = 14.901\n",
      "Epoch 660: physics = 18.550, data = 14.377, total = 14.795\n",
      "Epoch 670: physics = 18.434, data = 14.272, total = 14.689\n",
      "Epoch 680: physics = 18.319, data = 14.168, total = 14.583\n",
      "Epoch 690: physics = 18.009, data = 14.039, total = 14.436\n",
      "Epoch 700: physics = 17.275, data = 13.469, total = 13.850\n",
      "Epoch 710: physics = 16.146, data = 12.412, total = 12.786\n",
      "Epoch 720: physics = 14.676, data = 10.968, total = 11.339\n"
     ]
    },
    {
     "name": "stderr",
     "output_type": "stream",
     "text": [
      " 85%|████████▍ | 849/1000 [00:01<00:00, 574.02it/s]"
     ]
    },
    {
     "name": "stdout",
     "output_type": "stream",
     "text": [
      "Epoch 730: physics = 13.137, data = 9.328, total = 9.709\n",
      "Epoch 740: physics = 11.683, data = 7.671, total = 8.072\n",
      "Epoch 750: physics = 10.468, data = 6.128, total = 6.562\n",
      "Epoch 760: physics = 9.481, data = 4.812, total = 5.279\n",
      "Epoch 770: physics = 8.873, data = 3.750, total = 4.262\n",
      "Epoch 780: physics = 8.422, data = 2.958, total = 3.505\n",
      "Epoch 790: physics = 8.189, data = 2.404, total = 2.982\n",
      "Epoch 800: physics = 8.109, data = 2.018, total = 2.627\n",
      "Epoch 810: physics = 8.098, data = 1.770, total = 2.402\n",
      "Epoch 820: physics = 8.132, data = 1.598, total = 2.251\n",
      "Epoch 830: physics = 8.184, data = 1.478, total = 2.149\n",
      "Epoch 840: physics = 8.191, data = 1.390, total = 2.070\n",
      "Epoch 850: physics = 8.215, data = 1.316, total = 2.006\n"
     ]
    },
    {
     "name": "stderr",
     "output_type": "stream",
     "text": [
      " 97%|█████████▋| 972/1000 [00:01<00:00, 591.04it/s]"
     ]
    },
    {
     "name": "stdout",
     "output_type": "stream",
     "text": [
      "Epoch 860: physics = 8.244, data = 1.248, total = 1.948\n",
      "Epoch 870: physics = 8.270, data = 1.184, total = 1.892\n",
      "Epoch 880: physics = 8.290, data = 1.125, total = 1.842\n",
      "Epoch 890: physics = 8.289, data = 1.072, total = 1.793\n",
      "Epoch 900: physics = 8.280, data = 1.021, total = 1.747\n",
      "Epoch 910: physics = 8.272, data = 0.973, total = 1.703\n",
      "Epoch 920: physics = 8.275, data = 0.925, total = 1.660\n",
      "Epoch 930: physics = 8.275, data = 0.880, total = 1.620\n",
      "Epoch 940: physics = 8.286, data = 0.836, total = 1.581\n",
      "Epoch 950: physics = 8.285, data = 0.795, total = 1.544\n",
      "Epoch 960: physics = 8.284, data = 0.756, total = 1.508\n",
      "Epoch 970: physics = 8.312, data = 0.715, total = 1.474\n",
      "Epoch 980: physics = 8.310, data = 0.679, total = 1.442\n"
     ]
    },
    {
     "name": "stderr",
     "output_type": "stream",
     "text": [
      "100%|██████████| 1000/1000 [00:01<00:00, 581.54it/s]\n"
     ]
    },
    {
     "name": "stdout",
     "output_type": "stream",
     "text": [
      "Epoch 990: physics = 8.309, data = 0.644, total = 1.410\n"
     ]
    },
    {
     "data": {
      "text/plain": [
       "<matplotlib.legend.Legend at 0x16a4b7d90>"
      ]
     },
     "execution_count": 12,
     "metadata": {},
     "output_type": "execute_result"
    },
    {
     "data": {
      "image/png": "[encoded data removed]",
      "text/plain": [
       "<Figure size 640x480 with 1 Axes>"
      ]
     },
     "metadata": {},
     "output_type": "display_data"
    }
   ],
   "source": [
    "import numpy as np\n",
    "from scipy.integrate import odeint\n",
    "from scipy.stats import qmc\n",
    "\n",
    "from sklearn.preprocessing import MinMaxScaler\n",
    "import pickle\n",
    "\n",
    "import torch\n",
    "import torch.nn as nn\n",
    "import torch.nn.functional as F\n",
    "\n",
    "from tqdm import tqdm\n",
    "\n",
    "seed = 42\n",
    "torch.manual_seed(seed)\n",
    "np.random.seed(seed)\n",
    "\n",
    "class FCN(nn.Module):\n",
    "    '''Fully connected neural network'''\n",
    "    def __init__(self, input_size, hidden_neurons, n_layers, output_size):\n",
    "        '''Initialize the neural network\n",
    "        Args:\n",
    "            int input_size: number of input features\n",
    "            int hidden_size: number of hidden units\n",
    "            int output_size: number of output features\n",
    "        '''\n",
    "        super(FCN, self).__init__()\n",
    "        self.fc1 = nn.Linear(input_size, hidden_neurons)\n",
    "        self.fci = nn.ModuleList([nn.Linear(hidden_neurons, hidden_neurons) for i in range(n_layers)])\n",
    "        self.fc2 = nn.Linear(hidden_neurons, output_size)\n",
    "\n",
    "    def forward(self, x):\n",
    "        '''Forward pass of the neural network\n",
    "        Args:\n",
    "            variable x: input tensor of shape (n, input_size)\n",
    "        Returns:\n",
    "            variable out: output tensor of shape (n, output_size)\n",
    "        '''\n",
    "        x = F.relu(self.fc1(x))\n",
    "        for fc in self.fci:\n",
    "            x = F.relu(fc(x))\n",
    "        x = self.fc2(x)\n",
    "        return x\n",
    "    \n",
    "class PNN(nn.Module):\n",
    "    '''Physics-informed neural network'''\n",
    "    def __init__(self, input_size, hidden_size, n_layers, output_size):\n",
    "        '''Initialize the PINN\n",
    "        Args:\n",
    "            int input_size: number of input features\n",
    "            int hidden_size: number of hidden units\n",
    "            int output_size: number of output features\n",
    "        '''\n",
    "        super(PNN, self).__init__()\n",
    "        self.input_size = input_size\n",
    "        self.fcn = FCN(input_size, hidden_size, n_layers, output_size)\n",
    "    \n",
    "    def preprocess_input(self, data, first_time=False):\n",
    "        '''Preprocess the input data to scale to (0, 1)'''\n",
    "\n",
    "        (t, a, b, c) = data\n",
    "        assert a.shape == b.shape == t.shape == c.shape, 'Shapes of input arrays do not match'\n",
    "\n",
    "        x = np.column_stack(data)\n",
    "\n",
    "        if first_time:\n",
    "            # instantiate MinMaxScaler\n",
    "            scaler = MinMaxScaler(feature_range=(0, 1))\n",
    "            # fit and transform the data\n",
    "            x_scaled = scaler.fit_transform(x)\n",
    "            # save the scaler to a pickle file\n",
    "            with open('./models/scaler.pkl', 'wb') as f:\n",
    "                pickle.dump(scaler, f)\n",
    "        else:\n",
    "            # load the scaler from the pickle file\n",
    "            with open('./models/scaler.pkl', 'rb') as f:\n",
    "                scaler = pickle.load(f)\n",
    "            # transform the data\n",
    "            x_scaled = scaler.transform(x)\n",
    "\n",
    "        return x_scaled\n",
    "    \n",
    "    def ode(self, t, y, a, b):\n",
    "        '''ODE: \n",
    "        dy/dt = a * exp(t) - b'''\n",
    "        dydt = a * np.exp(t) - b\n",
    "        return dydt\n",
    "    \n",
    "    def SR(self, result):\n",
    "\n",
    "        return result[-1] - result[0]\n",
    "    \n",
    "    def physics(self, data: tuple, num_points: int=10):\n",
    "        '''solve the ODE for multiple sets of parameters\n",
    "        params:\n",
    "            data: tuple of input data (t, a, b, init)\n",
    "            num_points: number of points to solve\n",
    "        returns:\n",
    "            array of solutions\n",
    "        '''\n",
    "        (t, a, b, init) = data\n",
    "        assert a.shape == b.shape == t.shape == init.shape, 'Shapes of input arrays do not match'\n",
    "        result = []\n",
    "        for index in range(len(a)):\n",
    "            params = (a[index], b[index])\n",
    "            time = np.linspace(0, t[index], num_points)\n",
    "            res = odeint(func=self.ode, y0=init[index], t=time, args=params, tfirst=True)\n",
    "            result.append(self.SR(res))\n",
    "\n",
    "        # print(f'physics output: {np.array(result).shape}')\n",
    "        return torch.tensor(np.array(result), dtype=torch.float32)\n",
    "    \n",
    "    def forward(self, data):\n",
    "        '''Feedforward function for the FCN using a and b as input\n",
    "        Args:\n",
    "            variable data: tuple of input data (t, a, b, c)\n",
    "        Returns:\n",
    "            variable out: tensor of shape (n, 1)\n",
    "        '''\n",
    "        # print(f'input in forward pass: {data.shape}')\n",
    "        x = torch.tensor(data, dtype=torch.float32)\n",
    "        out = self.fcn(x)\n",
    "        return out\n",
    "\n",
    "    def augment(self, data, n_samples=10):\n",
    "        '''Apply Latin Hypercube Sampling to the input data to generate more samples\n",
    "        (a, b, t, init) = data\n",
    "        '''\n",
    "\n",
    "        original_data = np.vstack(data).T\n",
    "        # obtain the range of each parameter\n",
    "        l_bound = np.array([a.min(), b.min(), t.min(), init.min()])\n",
    "        u_bound = np.array([a.max(), b.max(), t.max(), init.max()])\n",
    "        # check if the bounds are the same\n",
    "        assert len(l_bound) == len(u_bound), 'Lower and upper bounds do not match'\n",
    "        # apply Latin Hypercube Sampling\n",
    "        sampler = qmc.LatinHypercube(d=len(l_bound))\n",
    "        design_space = sampler.random(n_samples)\n",
    "        # convert the LHS samples (0, 1) to the actual range\n",
    "        new_design = qmc.scale(design_space, l_bound, u_bound)\n",
    "        # merge the new samples with the original data and reshuflle\n",
    "        augmented_data = np.vstack((original_data, new_design))\n",
    "        np.random.shuffle(augmented_data)\n",
    "\n",
    "        return (augmented_data[:, 0], augmented_data[:, 1], augmented_data[:, 2], augmented_data[:, 3])\n",
    "\n",
    "    \n",
    "    def training_step(self, \n",
    "                      inputs: tuple,\n",
    "                      target: np.array,\n",
    "                      lambda_pinn: float= 0.5,\n",
    "                      lambda_data: float= 0.5,\n",
    "                      epoch: int = 1000):\n",
    "        '''Compute the loss function for the PINN'''\n",
    "        # convert target to tensor\n",
    "        y = torch.tensor(target, dtype=torch.float32).reshape(-1, 1)\n",
    "        # augment the data for physics loss to enhance the training\n",
    "        phys_augmented = self.augment(inputs, n_samples=10)\n",
    "        # rescale the inputs to (0, 1) and write the scaler to yaml file\n",
    "        inputs = self.preprocess_input(inputs, first_time=True)\n",
    "        phys_augmented_norm = self.preprocess_input(phys_augmented)\n",
    "        # print(f'preprocessed actual input in training: {inputs.shape}, target: {y.shape}')\n",
    "        # print(f'preprocessed augmented input in training: {inputs_augmented[0].shape}')\n",
    "    \n",
    "        # optimizer and loss function\n",
    "        optimizer = torch.optim.Adam(self.parameters(), lr=1e-3)\n",
    "        loss_fn_physics = nn.MSELoss()\n",
    "        loss_fn_data = nn.MSELoss()\n",
    "        # record for loss function\n",
    "        recorder_epoch_physics = []\n",
    "        recorder_epoch_data = []\n",
    "        recorder_epoch_total = []\n",
    "        for epoch in tqdm(range(epoch)):\n",
    "            optimizer.zero_grad()\n",
    "            # data driven loss\n",
    "            out_nn = self(inputs)\n",
    "            # print(f'output in training: {out_nn.shape}, target: {y.shape}')\n",
    "            loss_data = loss_fn_data(out_nn, y)\n",
    "            # physics loss\n",
    "            out_phy_augmented = self.physics(phys_augmented)\n",
    "            out_nn_augmented = self(phys_augmented_norm) \n",
    "            # print(f'output in epoch {epoch}: {out_phy_augmented.shape}, target: {out_nn_augmented.shape}')\n",
    "            loss_physics = loss_fn_physics(out_phy_augmented, out_nn_augmented)\n",
    "            # total loss\n",
    "            loss = lambda_data*loss_data + lambda_pinn*loss_physics\n",
    "            loss.backward()\n",
    "            optimizer.step()\n",
    "\n",
    "            if epoch % 10 == 0:\n",
    "                tqdm.write(f'Epoch {epoch}: physics = {loss_physics.item():.3f}, data = {loss_data.item():.3f}, total = {loss.item():.3f}')\n",
    "                recorder_epoch_physics.append(loss_physics.item())\n",
    "                recorder_epoch_data.append(loss_data.item())\n",
    "                recorder_epoch_total.append(loss.item())\n",
    "\n",
    "        # save model\n",
    "        torch.save(self.state_dict(), './models/example_pinn.pth')\n",
    "        torch.save(optimizer.state_dict(), './models/example_opt.pth')\n",
    "\n",
    "        return recorder_epoch_physics, recorder_epoch_data, recorder_epoch_total\n",
    "    \n",
    "    def test_model(self, inputs: tuple, trained_model: str='./models/example_pinn.pth'):\n",
    "        '''Test the model on the given inputs'''\n",
    "        if os.path.exists(trained_model) and trained_model is not None:\n",
    "            self.load_state_dict(torch.load(trained_model, weights_only=True))\n",
    "        else:\n",
    "            print('Model not found')\n",
    "        with torch.no_grad():\n",
    "            inputs = self.preprocess_input(inputs)\n",
    "            predictions = self(inputs)\n",
    "        return predictions\n",
    "\n",
    "# experiment\n",
    "a = np.array([1.0, 2.0, 3.0, 4.0, 5.0])\n",
    "b = np.array([0.25, 0.20, 0.15, 0.1, 0.05])\n",
    "t = np.array([0.5, 0.8, 1, 3, 5])\n",
    "init = np.array([a[i] - b[i] for i in range(len(a))])\n",
    "features = (t, a, b, init)\n",
    "target = np.array([a[i] * np.exp(t[i]) - b[i] for i in range(len(a))]) # a * np.exp(t) - b\n",
    "\n",
    "# model parameters\n",
    "number_inputs = len(features)\n",
    "number_neurons = 32\n",
    "number_outputs = 1\n",
    "n_layers = 3\n",
    "epochs = 1000\n",
    "lambda_pinn = 0.1\n",
    "lambda_data = 0.9\n",
    "\n",
    "model = PNN(input_size=number_inputs, hidden_size=number_neurons, output_size=number_outputs, n_layers=n_layers)\n",
    "epoch_physics, epoch_data, epoch_total = model.training_step(features, target, lambda_pinn, lambda_data, epochs)\n",
    "\n",
    "\n",
    "plt.plot(np.linspace(0, epochs, len(epoch_physics)), epoch_physics, label='Physics')\n",
    "plt.plot(np.linspace(0, epochs, len(epoch_data)), epoch_data, label='Data')\n",
    "plt.plot(np.linspace(0, epochs, len(epoch_total)), epoch_total, label='Total')\n",
    "plt.xlabel('Epochs', fontsize=14)\n",
    "plt.ylabel('Loss', fontsize=14)\n",
    "plt.legend()"
   ]
  },
  {
   "cell_type": "code",
   "execution_count": 10,
   "metadata": {},
   "outputs": [
    {
     "data": {
      "text/plain": [
       "[<matplotlib.lines.Line2D at 0x16a48e400>]"
      ]
     },
     "execution_count": 10,
     "metadata": {},
     "output_type": "execute_result"
    },
    {
     "data": {
      "image/png": "[encoded data removed]",
      "text/plain": [
       "<Figure size 640x480 with 1 Axes>"
      ]
     },
     "metadata": {},
     "output_type": "display_data"
    }
   ],
   "source": [
    "# test the model\n",
    "out_nn = model.test_model(features)\n",
    "# plot the results y vs y_nn\n",
    "plt.scatter(target, out_nn.numpy())\n",
    "plt.plot(target, target, 'r--')"
   ]
  },
  {
   "cell_type": "code",
   "execution_count": 11,
   "metadata": {},
   "outputs": [],
   "source": [
    "# import numpy as np\n",
    "# from scipy.stats import qmc\n",
    "\n",
    "# def augment(a, b, t, init, n_samples=10):\n",
    "#     '''Apply Latin Hypercube Sampling to the input data to generate more samples\n",
    "#     '''\n",
    "\n",
    "#     # echo number of samples to be generated\n",
    "#     print(f'New samples to be generated\\n {n_samples}')\n",
    "\n",
    "#     # original data\n",
    "#     original_data = np.vstack((a, b, t, init)).T\n",
    "#     print(f'Original Data \\n Min: {original_data.min(axis=0)} \\n Max: {original_data.max(axis=0)}')\n",
    "\n",
    "#     # obtain the range of each parameter\n",
    "#     a_min, a_max = a.min(), a.max()\n",
    "#     b_min, b_max = b.min(), b.max()\n",
    "#     t_min, t_max = t.min(), t.max()\n",
    "#     init_min, init_max = init.min(), init.max()\n",
    "\n",
    "#     l_bound = np.array([a_min, b_min, t_min, init_min])\n",
    "#     u_bound = np.array([a_max, b_max, t_max, init_max])\n",
    "\n",
    "#     # check if the bounds are the same\n",
    "#     assert len(l_bound) == len(u_bound), 'Lower and upper bounds do not match'\n",
    "    \n",
    "#     # apply Latin Hypercube Sampling\n",
    "#     sampler = qmc.LatinHypercube(d=len(l_bound))\n",
    "#     design_space = sampler.random(n_samples)\n",
    "    \n",
    "#     # convert the LHS samples (0, 1) to the actual range\n",
    "#     new_design = qmc.scale(design_space, l_bound, u_bound)\n",
    "#     print(f'New Design \\n Min: {new_design.min(axis=0)} \\n Max: {new_design.max(axis=0)}')\n",
    "\n",
    "#     # merge the new samples with the original data and reshuflle\n",
    "#     augmented_data = np.vstack((original_data, new_design))\n",
    "#     np.random.shuffle(augmented_data)\n",
    "\n",
    "#     # print summary\n",
    "#     print(f'After merging \\n Min: {augmented_data.min(axis=0)} \\n Max: {augmented_data.max(axis=0)}')\n",
    "\n",
    "#     return augmented_data\n",
    "    \n",
    "    \n",
    "\n",
    "# # Example usage\n",
    "# a = np.array([1.0, 2.0, 3.0, 4.0, 5.0])\n",
    "# b = np.array([0.25, 0.20, 0.15, 0.1, 0.05])\n",
    "# t = np.array([0.5, 0.8, 1, 3, 5])\n",
    "# init = np.array([0.75, 1.8 , 2.85, 3.9 , 4.95])\n",
    "\n",
    "# augmented_data = augment(a, b, t, init, n_samples=50)"
   ]
  },
  {
   "cell_type": "code",
   "execution_count": null,
   "metadata": {},
   "outputs": [],
   "source": []
  }
 ],
 "metadata": {
  "kernelspec": {
   "display_name": "separationRL",
   "language": "python",
   "name": "python3"
  },
  "language_info": {
   "codemirror_mode": {
    "name": "ipython",
    "version": 3
   },
   "file_extension": ".py",
   "mimetype": "text/x-python",
   "name": "python",
   "nbconvert_exporter": "python",
   "pygments_lexer": "ipython3",
   "version": "3.9.20"
  }
 },
 "nbformat": 4,
 "nbformat_minor": 2
}
